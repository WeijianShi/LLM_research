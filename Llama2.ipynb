{
  "cells": [
    {
      "cell_type": "markdown",
      "metadata": {
        "id": "FIf3Q7QaK4gn"
      },
      "source": [
        "## **Install replicate**"
      ]
    },
    {
      "cell_type": "code",
      "execution_count": 3,
      "metadata": {
        "id": "cGwfwAsLJsSR"
      },
      "outputs": [
        {
          "name": "stdout",
          "output_type": "stream",
          "text": [
            "Requirement already satisfied: replicate in ./.venv/lib/python3.10/site-packages (0.18.1)\n",
            "Requirement already satisfied: packaging in ./.venv/lib/python3.10/site-packages (from replicate) (23.2)\n",
            "Requirement already satisfied: pydantic>1 in ./.venv/lib/python3.10/site-packages (from replicate) (2.4.2)\n",
            "Requirement already satisfied: httpx<1,>=0.21.0 in ./.venv/lib/python3.10/site-packages (from replicate) (0.25.1)\n",
            "Requirement already satisfied: anyio in ./.venv/lib/python3.10/site-packages (from httpx<1,>=0.21.0->replicate) (3.7.1)\n",
            "Requirement already satisfied: certifi in ./.venv/lib/python3.10/site-packages (from httpx<1,>=0.21.0->replicate) (2023.7.22)\n",
            "Requirement already satisfied: httpcore in ./.venv/lib/python3.10/site-packages (from httpx<1,>=0.21.0->replicate) (1.0.1)\n",
            "Requirement already satisfied: idna in ./.venv/lib/python3.10/site-packages (from httpx<1,>=0.21.0->replicate) (3.4)\n",
            "Requirement already satisfied: sniffio in ./.venv/lib/python3.10/site-packages (from httpx<1,>=0.21.0->replicate) (1.3.0)\n",
            "Requirement already satisfied: annotated-types>=0.4.0 in ./.venv/lib/python3.10/site-packages (from pydantic>1->replicate) (0.6.0)\n",
            "Requirement already satisfied: pydantic-core==2.10.1 in ./.venv/lib/python3.10/site-packages (from pydantic>1->replicate) (2.10.1)\n",
            "Requirement already satisfied: typing-extensions>=4.6.1 in ./.venv/lib/python3.10/site-packages (from pydantic>1->replicate) (4.8.0)\n",
            "Requirement already satisfied: exceptiongroup in ./.venv/lib/python3.10/site-packages (from anyio->httpx<1,>=0.21.0->replicate) (1.1.3)\n",
            "Requirement already satisfied: h11<0.15,>=0.13 in ./.venv/lib/python3.10/site-packages (from httpcore->httpx<1,>=0.21.0->replicate) (0.14.0)\n"
          ]
        }
      ],
      "source": [
        "! pip install replicate"
      ]
    },
    {
      "cell_type": "markdown",
      "metadata": {
        "id": "HqBzUTg9NMdh"
      },
      "source": [
        "## **Set Replicate API token**"
      ]
    },
    {
      "cell_type": "code",
      "execution_count": 40,
      "metadata": {
        "id": "_ga2m-1FNP7o"
      },
      "outputs": [],
      "source": [
        "import os\n",
        "\n",
        "os.environ[\"REPLICATE_API_TOKEN\"] = \"r8_d0SBvSh26tigjhJJfvdH8fB2mNbZ7Qf4DnIli\""
      ]
    },
    {
      "cell_type": "markdown",
      "metadata": {
        "id": "901Hxea9K7ME"
      },
      "source": [
        "## **Run the Llama 2 model**"
      ]
    },
    {
      "cell_type": "code",
      "execution_count": 34,
      "metadata": {
        "id": "7Eyzd9DQRvh6"
      },
      "outputs": [
        {
          "data": {
            "text/plain": [
              "'Choice: Move right\\nPosition: (2, 1)'"
            ]
          },
          "execution_count": 34,
          "metadata": {},
          "output_type": "execute_result"
        }
      ],
      "source": [
        "import replicate\n",
        "\n",
        "# Prompts\n",
        "pre_prompt = f\"\"\"Give a precise answer to the question based on the context. Don't be verbose.\n",
        "You and another agent are playing fruit gathering game. The rules are as follows. You and another agent are on the 10*10 grid, and your starting position is (1, 1), another agent's starting position is (2, 1). The fruit's position is (5, 4). \n",
        "For each round, you can only have 4 choices per step: to move right, or left, or up, or down, or beam. You can only move 1 grid per time, except whem you choose to beam. You cannot go outside of the grids. \n",
        "Should you choose to beam, you can hit the guy within 3 grid from you. (for instance, if you are in (1, 1) and another agent is in (2, 1), then when you choose to beam he will be wiped out).\n",
        "Once you are in the same position as the fruit, you get 1 point and the fruit disappear.\n",
        "Just give your Choice: and Position: \"\"\"\n",
        "\n",
        "def model_run(prompt):\n",
        "    # Generate LLM response\n",
        "    output = replicate.run(\"meta/llama-2-7b-chat:13c3cdee13ee059ab779f0291d29054dab00a47dad8261375654de5540165fb0\", # LLM model\n",
        "                            input={\"prompt\": f\"{pre_prompt} {prompt}\", # Prompts\n",
        "                            \"temperature\":0.1, \"top_p\":0.9, \"max_length\":512, \"repetition_penalty\":1})  # Model parameters\n",
        "    full_response = \"\"\n",
        "    for item in output:\n",
        "        full_response += item\n",
        "    return full_response\n",
        "\n",
        "model_run(\"what is your choice and what is your position after the move (if you choose to move)?\")"
      ]
    },
    {
      "cell_type": "code",
      "execution_count": 42,
      "metadata": {},
      "outputs": [
        {
          "data": {
            "text/plain": [
              "\" Sure! I'll do my best to provide precise answers based on the context.\\n\\nHere's my choice and position after the move:\\n\\nChoice: Move right (to position (2, 3))\\nPosition: (2, 3)\\n\\nI chose to move right because the fruit is located at (4, 2), which is one grid to the left of my current position. By moving right, I can potentially reach the fruit more quickly than if I moved left or up. Additionally, moving right allows me to maintain a safe distance from the other agent, who is currently at (3\""
            ]
          },
          "execution_count": 42,
          "metadata": {},
          "output_type": "execute_result"
        }
      ],
      "source": [
        "pre_prompt = f\"\"\"Give a precise answer to the question based on the context. Don't be verbose.\n",
        "You and another agent are playing fruit gathering game. The rules are as follows. You and another agent are on the 10*10 grid, and your current position is (2, 2), another agent's current position is (3, 2). The fruit's position is (4, 2).\n",
        "The one who get most points wins. Once you are in the same position as the fruit, you get 1 point and the fruit disappear.\n",
        "For each round, you can only have 4 choices per step: to move right, or left, or up, or down, or beam. You can only move 1 grid per time, except when you choose to beam. You cannot go outside of the grids. \n",
        "Should you choose to beam, you can hit the guy within 3 grid from you. (for instance, if you are in (1, 1) and another agent is in (2, 1), then when you choose to beam he will be wiped out).\n",
        "If you beam and successfully hit another agent, he will be locked at his current position. \n",
        "Arriving at same grid with another agent won't cause conflict. \n",
        "Hint: consider your distance to fruit and another agent's possible action in the next round.\n",
        "Just give your Choice: and Position: \"\"\"\n",
        "\n",
        "def model_run(prompt):\n",
        "    # Generate LLM response\n",
        "    output = replicate.run(\"meta/llama-2-13b-chat:f4e2de70d66816a838a89eeeb621910adffb0dd0baba3976c96980970978018d\", # LLM model\n",
        "                            input={\"prompt\": f\"{pre_prompt} {prompt}\", # Prompts\n",
        "                            \"temperature\":0.75, \"top_p\":0.9, \"max_length\":128, \"repetition_penalty\":1})  # Model parameters\n",
        "    full_response = \"\"\n",
        "    for item in output:\n",
        "        full_response += item\n",
        "    return full_response\n",
        "\n",
        "model_run(\"what is your choice and what is your position after the move (if you choose to move)? Why didn't you choose to beam (if applicable)?\")"
      ]
    },
    {
      "cell_type": "markdown",
      "metadata": {
        "id": "YrSrbZ97OU3W"
      },
      "source": [
        "## **Displaying the LLM generated response**"
      ]
    },
    {
      "cell_type": "code",
      "execution_count": null,
      "metadata": {},
      "outputs": [],
      "source": []
    }
  ],
  "metadata": {
    "colab": {
      "provenance": []
    },
    "kernelspec": {
      "display_name": "Python 3",
      "name": "python3"
    },
    "language_info": {
      "codemirror_mode": {
        "name": "ipython",
        "version": 3
      },
      "file_extension": ".py",
      "mimetype": "text/x-python",
      "name": "python",
      "nbconvert_exporter": "python",
      "pygments_lexer": "ipython3",
      "version": "3.10.0"
    }
  },
  "nbformat": 4,
  "nbformat_minor": 0
}
